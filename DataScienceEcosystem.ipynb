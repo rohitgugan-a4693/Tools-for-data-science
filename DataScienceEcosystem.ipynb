{
 "cells": [
  {
   "cell_type": "markdown",
   "id": "840470fa",
   "metadata": {},
   "source": [
    "# DataScience Tools and ecosystem"
   ]
  },
  {
   "cell_type": "markdown",
   "id": "dd14f2c8",
   "metadata": {},
   "source": [
    "In this notebook, Data Science Tools and Ecosystem are summarized."
   ]
  },
  {
   "cell_type": "markdown",
   "id": "807edfaa",
   "metadata": {},
   "source": [
    "Some of the popular languages that Data Scientists use are:\n",
    "1.Python\n",
    "2.R\n",
    "3.SQL\n",
    "4.Scala\n",
    "5.Java\n",
    "6.C++ \n",
    "7.Julia , etc..."
   ]
  },
  {
   "cell_type": "markdown",
   "id": "0f027c68",
   "metadata": {},
   "source": [
    "Some of the commonly used libraries used by Data Scientists include:\n",
    "    1.Numpy\n",
    "    2.Pandas\n",
    "    3.Matplotlib\n",
    "    4.Tensorflow\n",
    "    5.SciPy\n",
    "    6.Pytorch\n",
    "    7.Seaborn.\n",
    "    8.Scikit learn\n",
    "    9.keras , etc..."
   ]
  },
  {
   "cell_type": "markdown",
   "id": "4984b016",
   "metadata": {},
   "source": [
    "| Data Science Tools |\n",
    "|---|\n",
    "|Apache Hadoop|\n",
    "|TensorFlow|\n",
    "|Jupyter|"
   ]
  },
  {
   "cell_type": "markdown",
   "id": "4250a3ab",
   "metadata": {},
   "source": [
    "### Below are a few examples of evaluating arithmetic expressions in Python"
   ]
  },
  {
   "cell_type": "code",
   "execution_count": 2,
   "id": "bc9ca267",
   "metadata": {},
   "outputs": [
    {
     "data": {
      "text/plain": [
       "17"
      ]
     },
     "execution_count": 2,
     "metadata": {},
     "output_type": "execute_result"
    }
   ],
   "source": [
    "#This a simple arithmetic expression to mutiply then add integers\n",
    "(3*4)+5"
   ]
  },
  {
   "cell_type": "code",
   "execution_count": 3,
   "id": "36b41a5f",
   "metadata": {},
   "outputs": [
    {
     "data": {
      "text/plain": [
       "3.3333333333333335"
      ]
     },
     "execution_count": 3,
     "metadata": {},
     "output_type": "execute_result"
    }
   ],
   "source": [
    "#This will convert 200 minutes to hours by diving by 60\n",
    "200/60"
   ]
  },
  {
   "cell_type": "markdown",
   "id": "10e1e411",
   "metadata": {},
   "source": [
    "__Objectives__\n",
    "* List popular languages for Data Science\n",
    "* List popular libraries for Data Science\n",
    "* Tools for Data Science\n",
    "* Describe the relevant features of open-source tools"
   ]
  },
  {
   "cell_type": "markdown",
   "id": "b5a16c23",
   "metadata": {},
   "source": [
    "## Author"
   ]
  },
  {
   "cell_type": "markdown",
   "id": "a3f798d7",
   "metadata": {},
   "source": [
    "Rohitgugan"
   ]
  }
 ],
 "metadata": {
  "kernelspec": {
   "display_name": "Python 3 (ipykernel)",
   "language": "python",
   "name": "python3"
  },
  "language_info": {
   "codemirror_mode": {
    "name": "ipython",
    "version": 3
   },
   "file_extension": ".py",
   "mimetype": "text/x-python",
   "name": "python",
   "nbconvert_exporter": "python",
   "pygments_lexer": "ipython3",
   "version": "3.11.4"
  }
 },
 "nbformat": 4,
 "nbformat_minor": 5
}
